{
 "cells": [
  {
   "cell_type": "markdown",
   "metadata": {},
   "source": [
    "## 1번 문제"
   ]
  },
  {
   "cell_type": "code",
   "execution_count": 5,
   "metadata": {},
   "outputs": [
    {
     "name": "stdout",
     "output_type": "stream",
     "text": [
      "원의 넓이는 314.1592653589793\n"
     ]
    }
   ],
   "source": [
    "# 1번 문제\n",
    "import math\n",
    "\n",
    "radius = int(input('반지름 입력'))\n",
    "print(f'원의 넓이는 {radius * radius * math.pi}')"
   ]
  },
  {
   "cell_type": "markdown",
   "metadata": {},
   "source": [
    "## 2번 문제"
   ]
  },
  {
   "cell_type": "code",
   "execution_count": 8,
   "metadata": {},
   "outputs": [
    {
     "name": "stdout",
     "output_type": "stream",
     "text": [
      "Neptune\n"
     ]
    }
   ],
   "source": [
    "# 2번 문제\n",
    "solar = { '수성' : 'Mercury', '금성' : 'Venus', '지구' :'Earth', \n",
    "          '화성':'Mars', '목성':'Jupiter', '토성':'Saturn', \n",
    "          '천왕성':'Uranus', '해왕성':'Neptune' }\n",
    "\n",
    "kname = input('행성이름(한글) 입력 > ')\n",
    "print(solar[kname])"
   ]
  },
  {
   "cell_type": "markdown",
   "metadata": {},
   "source": [
    "## 3번 문제"
   ]
  },
  {
   "cell_type": "code",
   "execution_count": 14,
   "metadata": {},
   "outputs": [
    {
     "name": "stdout",
     "output_type": "stream",
     "text": [
      "단어 수 : 10\n",
      "hello MY name IS hugo SUNG. nice TO meet YOU "
     ]
    }
   ],
   "source": [
    "# 3번 문제\n",
    "sentence = input('영어 문장 입력 > ')\n",
    "sentences = sentence.split(' ')\n",
    "print(f'단어 수 : {len(sentences)}')\n",
    "\n",
    "num = 1\n",
    "for i in sentences:\n",
    "    if (num % 2 == 0):\n",
    "        print(i.upper(), end=' ')\n",
    "    else:\n",
    "        print(i, end=' ')\n",
    "    num += 1   "
   ]
  },
  {
   "cell_type": "markdown",
   "metadata": {},
   "source": [
    "## 4번 문제"
   ]
  },
  {
   "cell_type": "code",
   "execution_count": 23,
   "metadata": {},
   "outputs": [
    {
     "name": "stdout",
     "output_type": "stream",
     "text": [
      "www.kakao.com\n"
     ]
    }
   ],
   "source": [
    "# 4번 문제\n",
    "def get_url(name):\n",
    "    return f'www.{name}.com'\n",
    "\n",
    "inname = input('웹사이트 이름 입력 > ')\n",
    "url = get_url(inname)\n",
    "print(url)"
   ]
  },
  {
   "cell_type": "markdown",
   "metadata": {},
   "source": [
    "## 5번 문제"
   ]
  },
  {
   "cell_type": "code",
   "execution_count": 25,
   "metadata": {},
   "outputs": [
    {
     "name": "stdout",
     "output_type": "stream",
     "text": [
      "9 --> 9 18 27 36 45 54 63 72 81 "
     ]
    }
   ],
   "source": [
    "# 5번 문제\n",
    "dan_num = int(input('구구단 단번호 입력 > '))\n",
    "\n",
    "print(dan_num, end=' --> ')\n",
    "for i in range(1, 10):\n",
    "    print(dan_num * i, end=' ')"
   ]
  }
 ],
 "metadata": {
  "kernelspec": {
   "display_name": "Python 3",
   "language": "python",
   "name": "python3"
  },
  "language_info": {
   "codemirror_mode": {
    "name": "ipython",
    "version": 3
   },
   "file_extension": ".py",
   "mimetype": "text/x-python",
   "name": "python",
   "nbconvert_exporter": "python",
   "pygments_lexer": "ipython3",
   "version": "3.11.5"
  }
 },
 "nbformat": 4,
 "nbformat_minor": 2
}
