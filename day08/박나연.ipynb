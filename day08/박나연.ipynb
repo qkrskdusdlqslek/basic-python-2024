{
 "cells": [
  {
   "cell_type": "markdown",
   "metadata": {},
   "source": [
    "## 1번 문제"
   ]
  },
  {
   "cell_type": "code",
   "execution_count": null,
   "metadata": {},
   "outputs": [],
   "source": [
    "# 1번 문제\n",
    "\n",
    "# from math import *\n",
    "PI = 3.141592\n",
    "Radius = float(input('원의 반지름을 입력하세요\\n'))\n",
    "Area = (Radius * Radius * PI)\n",
    "print('원의 넓이 :', Area)\n",
    "\n",
    "# 풀이\n",
    "import math\n",
    "\n",
    "radius = int(input('반지름 입력'))\n",
    "print(f'원의 넓이는 {radius * radius * math.pi}')"
   ]
  },
  {
   "cell_type": "markdown",
   "metadata": {},
   "source": [
    "## 2번 문제"
   ]
  },
  {
   "cell_type": "code",
   "execution_count": null,
   "metadata": {},
   "outputs": [],
   "source": [
    "# 2번 문제\n",
    "\n",
    "import googletrans\n",
    "\n",
    "lang = googletrans.LANGUAGES\n",
    "print(lang)\n",
    "\n",
    "translator = googletrans.Trnaslator()\n",
    "\n",
    "inStr = 'Mercury, Venus, Earth, Mars, Jupiter,  Saturn, Uranus, Neptune'\n",
    "\n",
    "outStr = translator.translate(inStr, dest = 'ko', src = 'en')\n",
    "\n",
    "print(f\"{inStr} => {outStr.text}\")\n",
    "\n",
    "# 풀이\n",
    "solar = {'수성' :'Mercury', '금성' : 'Venus', '지구' : 'Earth', '화성' : 'Mars', '목성' : 'Jupiter', '토성' :'Satur', '천왕성' : 'Uranus', '해왕성' : 'Neptune'}\n",
    "\n",
    "kname = input ('행성이름(한글) 입력 > ')\n",
    "print(solar[kname])"
   ]
  },
  {
   "cell_type": "markdown",
   "metadata": {},
   "source": [
    "## 3번 문제"
   ]
  },
  {
   "cell_type": "code",
   "execution_count": null,
   "metadata": {},
   "outputs": [],
   "source": [
    "# 3번 문제\n",
    "\n",
    "string_1 = \"I'm going to leave the door open\"\n",
    "words = string_1.split(' ')\n",
    "print(words)\n",
    "print(len(words)) \n",
    "\n",
    "print(string_1.upper('going')) \n",
    "print(string_1.upper('leave')) \n",
    "print(string_1.upper('door')) \n",
    "\n",
    "# 풀이 1\n",
    "sentence = input('영어 문장 입력 > ')\n",
    "sentences = sentence.split(' ')\n",
    "print(f'단어 수 : {len(sentences)}')\n",
    "\n",
    "num = 1\n",
    "for i in sentences:\n",
    "    if (num % 2 == 0):\n",
    "        print(i.upper(), end=' ')\n",
    "    else:\n",
    "        print(i, end=' ')\n",
    "        num += 1"
   ]
  },
  {
   "cell_type": "markdown",
   "metadata": {},
   "source": [
    "## 4번 문제"
   ]
  },
  {
   "cell_type": "code",
   "execution_count": 3,
   "metadata": {},
   "outputs": [],
   "source": [
    "# 4번 문제\n",
    "\n",
    "from urllib.request import Request, urlopen \n",
    "\n",
    "req = Request('www.google.com') \n",
    "res= urlopen(req) \n",
    "\n",
    "print(f'응답코드 : {res.status}') \n",
    "print(res.read())\n",
    "\n",
    "import requests\n",
    "\n",
    "res2 = requests.get('www.google.com') \n",
    "\n",
    "print(res2.status_code)\n",
    "print(res2.text) \n",
    "\n",
    "# 풀이\n",
    "def get_url(name):\n",
    "    return f'www.{name}.com'\n",
    "\n",
    "url = get_url(' ')\n",
    "print(url)"
   ]
  },
  {
   "cell_type": "markdown",
   "metadata": {},
   "source": [
    "## 5번 문제"
   ]
  },
  {
   "cell_type": "code",
   "execution_count": 5,
   "metadata": {},
   "outputs": [],
   "source": [
    "# 5번 문제\n",
    "\n",
    "x = 2\n",
    "for y in range(1, 9+1):\n",
    "    print(f'{x} x {y} = {x*y:2d}') \n",
    "\n",
    "print('구구단 시작!')\n",
    "for x in range(2, 9+1): \n",
    "    print(f'{x}단 ----->')\n",
    "    for y in range(1, 9+1): \n",
    "        print(f'{x} x {y} = {x*y:2d}',end='  ' ) \n",
    "    print()    \n",
    "\n",
    "# 풀이\n",
    "dan_num = int(input('구구단 단번호 입력 > '))\n",
    "\n",
    "print(dan_num, nd=' --> ')\n",
    "for i in range(1, 10):\n",
    "    print(dan_num * i, end=' ')"
   ]
  }
 ],
 "metadata": {
  "kernelspec": {
   "display_name": "Python 3",
   "language": "python",
   "name": "python3"
  },
  "language_info": {
   "codemirror_mode": {
    "name": "ipython",
    "version": 3
   },
   "file_extension": ".py",
   "mimetype": "text/x-python",
   "name": "python",
   "nbconvert_exporter": "python",
   "pygments_lexer": "ipython3",
   "version": "3.11.5"
  }
 },
 "nbformat": 4,
 "nbformat_minor": 2
}
